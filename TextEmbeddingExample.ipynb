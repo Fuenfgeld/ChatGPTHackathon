{
  "nbformat": 4,
  "nbformat_minor": 0,
  "metadata": {
    "colab": {
      "provenance": [],
      "authorship_tag": "ABX9TyM9gVTOuoNpIdoxFrmqnMK8",
      "include_colab_link": true
    },
    "kernelspec": {
      "name": "python3",
      "display_name": "Python 3"
    },
    "language_info": {
      "name": "python"
    }
  },
  "cells": [
    {
      "cell_type": "markdown",
      "metadata": {
        "id": "view-in-github",
        "colab_type": "text"
      },
      "source": [
        "<a href=\"https://colab.research.google.com/github/Fuenfgeld/ChatGPTHackathon/blob/main/TextEmbeddingExample.ipynb\" target=\"_parent\"><img src=\"https://colab.research.google.com/assets/colab-badge.svg\" alt=\"Open In Colab\"/></a>"
      ]
    },
    {
      "cell_type": "code",
      "execution_count": null,
      "metadata": {
        "id": "tAKpyVTrvHJY"
      },
      "outputs": [],
      "source": [
        "%pip install --upgrade openai\n",
        "%pip install tiktoken"
      ]
    },
    {
      "cell_type": "code",
      "source": [
        "from google.colab import drive\n",
        "drive.mount('/content/drive')\n",
        "\n",
        "import sys\n",
        "sys.path.append('/content/drive/MyDrive/your_folder') #change\n",
        "from APIkey import API_key\n",
        "\n",
        "import openai\n",
        "import tiktoken\n",
        "from tenacity import retry, wait_random_exponential, stop_after_attempt\n",
        "import pandas as pd"
      ],
      "metadata": {
        "id": "sAYFCipuvyyb"
      },
      "execution_count": null,
      "outputs": []
    },
    {
      "cell_type": "code",
      "source": [
        "with open('/content/drive/MyDrive/your_folder/ClinnovaDocs.txt') as f: #change\n",
        "    ClinnovaText = f.read()"
      ],
      "metadata": {
        "id": "CO5O5GdfvXWi"
      },
      "execution_count": null,
      "outputs": []
    },
    {
      "cell_type": "code",
      "source": [
        "openai.api_key = API_key"
      ],
      "metadata": {
        "id": "D7Ce-0FewhFR"
      },
      "execution_count": null,
      "outputs": []
    },
    {
      "cell_type": "code",
      "source": [
        "@retry(wait=wait_random_exponential(min=1, max=20), stop=stop_after_attempt(6))\n",
        "def get_embedding(text: str, model=\"text-embedding-ada-002\") -> list[float]:\n",
        "    return openai.Embedding.create(input=[text], model=model)[\"data\"][0][\"embedding\"]"
      ],
      "metadata": {
        "id": "tOEfOQxGwsNN"
      },
      "execution_count": null,
      "outputs": []
    },
    {
      "cell_type": "code",
      "source": [
        "embedding = get_embedding(\"Hello World\", model=\"text-embedding-ada-002\")\n",
        "print(len(embedding))"
      ],
      "metadata": {
        "id": "iehnxWkWw0oP"
      },
      "execution_count": null,
      "outputs": []
    }
  ]
}